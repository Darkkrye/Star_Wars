{
 "cells": [
  {
   "cell_type": "code",
   "execution_count": 13,
   "metadata": {
    "collapsed": false
   },
   "outputs": [],
   "source": [
    "import pandas as pd\n",
    "import matplotlib\n",
    "import matplotlib.pyplot as plt\n",
    "import math as m\n",
    "import numpy as np\n",
    "\n",
    "\n",
    "%matplotlib inline\n",
    "\n",
    "\n",
    "star_wars = pd.read_csv(\"star_wars.csv\", encoding = \"ISO-8859-1\")\n",
    "\n",
    "have_you_any = star_wars.iloc[:,1]\n",
    "what_see = star_wars.iloc[:,2]"
   ]
  },
  {
   "cell_type": "code",
   "execution_count": 14,
   "metadata": {
    "collapsed": true
   },
   "outputs": [],
   "source": [
    "d = [\"Yes\", \"No\", None, \"Yes\"]\n",
    "\n",
    "yes_no = {\"Yes\" : True, \"No\": False}\n",
    "\n",
    "d = pd.Series(d).map(yes_no)\n",
    "\n",
    "\n",
    "# print(what_see.values_count())\n",
    "\n",
    "#d = pd.Series(d).map(yes_no) # cannot apply .map() as a method on a list\n",
    "                             # hence, the need to convert to a Series Object\n",
    "\n",
    "\n",
    "# print(\"Yes\" in set(x))     # \"Yes\" in x would check in the index. Using set(x) forces\n",
    "                             # Python to check in the the non redundant list of values\n",
    "# have_you_any = have_you_any.map(yes_no)\n",
    "\n",
    "# what_see = what_see.map(yes_no)\n",
    "\n",
    "star_wars.iloc[:,1] = star_wars.iloc[:,1].map(yes_no)\n",
    "\n",
    "star_wars.iloc[:,1] = star_wars.iloc[:,2].map(yes_no)\n",
    "\n",
    "# print(star_wars.iloc[:,2].value_counts())"
   ]
  },
  {
   "cell_type": "code",
   "execution_count": 15,
   "metadata": {
    "collapsed": false
   },
   "outputs": [
    {
     "name": "stdout",
     "output_type": "stream",
     "text": [
      "[u'Star Wars: Episode I  The Phantom Menace', u'Star Wars: Episode II  Attack of the Clones', u'Star Wars: Episode III  Revenge of the Sith', u'Star Wars: Episode IV  A New Hope', u'Star Wars: Episode V The Empire Strikes Back', u'Star Wars: Episode VI Return of the Jedi']\n",
      "Round 0\n",
      "Round 1\n",
      "Round 2\n",
      "Round 3\n",
      "Round 4\n",
      "Round 5\n",
      "Prepping your Data is done.\n"
     ]
    }
   ],
   "source": [
    "movies_names = list(star_wars[star_wars.columns[3:9]].iloc[0,:])\n",
    "\n",
    "print(movies_names)\n",
    "\n",
    "for i,value in enumerate(movies_names):\n",
    "\n",
    "    temp_column = star_wars.iloc[:,i+3]\n",
    "    modify_dict = {}\n",
    "\n",
    "    # Prepping my dictionary\n",
    "\n",
    "    print (\"Round %d\" %i)\n",
    "\n",
    "    modify_dict[value] = True\n",
    "    modify_dict[float('nan')] = False\n",
    "\n",
    "    # Modifying the Selected Columns\n",
    "\n",
    "    temp_column = temp_column.map(modify_dict)\n",
    "\n",
    "    # Checking if everything went on moothly\n",
    "\n",
    "    # print(temp_column.value_counts())\n",
    "\n",
    "    # Placing the new Values in the Dataframe\n",
    "\n",
    "    star_wars.iloc[:,i+3] = temp_column\n",
    "\n",
    "\n",
    "print(\"Prepping your Data is done.\")\n"
   ]
  },
  {
   "cell_type": "code",
   "execution_count": 16,
   "metadata": {
    "collapsed": false
   },
   "outputs": [
    {
     "name": "stdout",
     "output_type": "stream",
     "text": [
      "True     552\n",
      "False    284\n",
      "Name: Have you seen any of the 6 films in the Star Wars franchise?, dtype: int64\n"
     ]
    }
   ],
   "source": [
    "# print(star_wars[star_wars.columns[8]])\n",
    "\n",
    "print(star_wars.iloc[:,1].value_counts())"
   ]
  },
  {
   "cell_type": "code",
   "execution_count": 17,
   "metadata": {
    "collapsed": false
   },
   "outputs": [
    {
     "name": "stdout",
     "output_type": "stream",
     "text": [
      "[u'RespondentID', u'Have you seen any of the 6 films in the Star Wars franchise?', u'Do you consider yourself to be a fan of the Star Wars film franchise?', u'Which of the following Star Wars films have you seen? Please select all that apply.', 'Unnamed: 4', 'Unnamed: 5', 'Unnamed: 6', 'Unnamed: 7', 'Unnamed: 8', u'Please rank the Star Wars films in order of preference with 1 being your favorite film in the franchise and 6 being your least favorite film.', 'Unnamed: 10', 'Unnamed: 11', 'Unnamed: 12', 'Unnamed: 13', 'Unnamed: 14', u'Please state whether you view the following characters favorably, unfavorably, or are unfamiliar with him/her.', 'Unnamed: 16', 'Unnamed: 17', 'Unnamed: 18', 'Unnamed: 19', 'Unnamed: 20', 'Unnamed: 21', 'Unnamed: 22', 'Unnamed: 23', 'Unnamed: 24', 'Unnamed: 25', 'Unnamed: 26', 'Unnamed: 27', 'Unnamed: 28', u'Which character shot first?', u'Are you familiar with the Expanded Universe?', u'Do you consider yourself to be a fan of the Expanded Universe?\\x8c\\xe6', u'Do you consider yourself to be a fan of the Star Trek franchise?', u'Gender', u'Age', u'Household Income', u'Education', u'Location (Census Region)']\n"
     ]
    }
   ],
   "source": [
    "print(list(star_wars.columns))"
   ]
  },
  {
   "cell_type": "code",
   "execution_count": 20,
   "metadata": {
    "collapsed": false
   },
   "outputs": [],
   "source": [
    "# Checking if everything is OK\n",
    "\n",
    "# print(star_wars.iloc[:,3:9])\n",
    "\n",
    "# You are good to go!\n",
    "\n",
    "renaming_dict = {movie:\"seen_\"+str(i+1) for i,movie in enumerate(star_wars.columns[3:9])}\n",
    "\n",
    "# print(renaming_dict)"
   ]
  },
  {
   "cell_type": "code",
   "execution_count": 21,
   "metadata": {
    "collapsed": false
   },
   "outputs": [],
   "source": [
    "# Changing the names of the Unnamed columns\n",
    "\n",
    "star_wars = star_wars.rename(columns=renaming_dict)\n",
    "\n",
    "# Checking if everything is fine\n",
    "\n",
    "# print(star_wars.columns.values)\n",
    "\n",
    "# You are good to go!\n",
    "\n",
    "# print(star_wars.iloc[:,3].value_counts())"
   ]
  },
  {
   "cell_type": "code",
   "execution_count": 22,
   "metadata": {
    "collapsed": false
   },
   "outputs": [
    {
     "name": "stdout",
     "output_type": "stream",
     "text": [
      "<type 'float'>\n"
     ]
    }
   ],
   "source": [
    "# Converting the ranking columns to float\n",
    "# Skipping the first row after the heading because it contains the different answering choices\n",
    "\n",
    "\n",
    "# print(star_wars.iloc[1::,9:15]) # Here: when I tried to do as suggested in the instructions\n",
    "                                # I got a warning A value is trying to be set on a copy of a slice from a DataFrame.\n",
    "                                # There is a risk that we would be only updating the copy created\n",
    "                                # Best parctice : Using .iloc ?\n",
    " \n",
    "star_wars.iloc[1::,9:15] = star_wars[star_wars.columns[9:15]].iloc[1::,:].astype(float)\n",
    "\n",
    "print(type(star_wars[star_wars.columns[9:15]].iloc[1,1]))"
   ]
  },
  {
   "cell_type": "code",
   "execution_count": 23,
   "metadata": {
    "collapsed": false
   },
   "outputs": [
    {
     "name": "stdout",
     "output_type": "stream",
     "text": [
      "Index([                                                                                                  u'RespondentID',\n",
      "                                                         u'Have you seen any of the 6 films in the Star Wars franchise?',\n",
      "                                                u'Do you consider yourself to be a fan of the Star Wars film franchise?',\n",
      "                                                                                                               u'seen_1',\n",
      "                                                                                                               u'seen_2',\n",
      "                                                                                                               u'seen_3',\n",
      "                                                                                                               u'seen_4',\n",
      "                                                                                                               u'seen_5',\n",
      "                                                                                                               u'seen_6',\n",
      "                                                                                                            u'ranking_1',\n",
      "                                                                                                            u'ranking_2',\n",
      "                                                                                                            u'ranking_3',\n",
      "                                                                                                            u'ranking_4',\n",
      "                                                                                                            u'ranking_5',\n",
      "                                                                                                            u'ranking_6',\n",
      "       u'Please state whether you view the following characters favorably, unfavorably, or are unfamiliar with him/her.',\n",
      "                                                                                                          u'Unnamed: 16',\n",
      "                                                                                                          u'Unnamed: 17',\n",
      "                                                                                                          u'Unnamed: 18',\n",
      "                                                                                                          u'Unnamed: 19',\n",
      "                                                                                                          u'Unnamed: 20',\n",
      "                                                                                                          u'Unnamed: 21',\n",
      "                                                                                                          u'Unnamed: 22',\n",
      "                                                                                                          u'Unnamed: 23',\n",
      "                                                                                                          u'Unnamed: 24',\n",
      "                                                                                                          u'Unnamed: 25',\n",
      "                                                                                                          u'Unnamed: 26',\n",
      "                                                                                                          u'Unnamed: 27',\n",
      "                                                                                                          u'Unnamed: 28',\n",
      "                                                                                          u'Which character shot first?',\n",
      "                                                                         u'Are you familiar with the Expanded Universe?',\n",
      "                                                     u'Do you consider yourself to be a fan of the Expanded Universe?æ',\n",
      "                                                     u'Do you consider yourself to be a fan of the Star Trek franchise?',\n",
      "                                                                                                               u'Gender',\n",
      "                                                                                                                  u'Age',\n",
      "                                                                                                     u'Household Income',\n",
      "                                                                                                            u'Education',\n",
      "                                                                                             u'Location (Census Region)'],\n",
      "      dtype='object')\n"
     ]
    }
   ],
   "source": [
    "renaming_dict = {heading:\"ranking_\"+str(i+1) for i,heading in enumerate(star_wars.columns[9:15])}\n",
    "\n",
    "# print(renaming_dict)\n",
    "\n",
    "# Renaming the columns\n",
    "\n",
    "star_wars = star_wars.rename(columns=renaming_dict)\n",
    "\n",
    "print(star_wars.columns)"
   ]
  },
  {
   "cell_type": "code",
   "execution_count": 39,
   "metadata": {
    "collapsed": false
   },
   "outputs": [
    {
     "name": "stdout",
     "output_type": "stream",
     "text": [
      "<class 'pandas.core.series.Series'>\n"
     ]
    },
    {
     "data": {
      "image/png": "[encoded data removed]",
      "text/plain": [
       "<matplotlib.figure.Figure at 0xc638fd0>"
      ]
     },
     "metadata": {},
     "output_type": "display_data"
    }
   ],
   "source": [
    "\n",
    "# Using state of the art mean\n",
    "\n",
    "mean_ranking = star_wars[star_wars.columns[9:15]].iloc[1::,:].mean()\n",
    "\n",
    "# print(mean_ranking)\n",
    "\n",
    "# Question : How can I use the pivot_table to get the same result?\n",
    "\n",
    "# Doing some zero padding to get rid of the first row containing possible answers\n",
    "\n",
    "# star_wars.iloc[0,9:15] = 0\n",
    "\n",
    "# print(star_wars.iloc[0,9:15])\n",
    "\n",
    "#star_wars.drop(star_wars.head(1).index)\n",
    "# Using pivot_table\n",
    "      \n",
    "# print(star_wars['ranking_1'].value_counts())\n",
    "\n",
    "# converting my Ranking Series into an array\n",
    "n_groups = 6\n",
    "index =  np.arange(n_groups)\n",
    "opacity = 0.4\n",
    "bar_width = 0.35\n",
    "\n",
    "fig, ax = plt.subplots()\n",
    "ax.bar(index,mean_ranking,bar_width,alpha=opacity,color='y',label=\"Average\")\n",
    "\n",
    "plt.xlabel('Star Wars Films')\n",
    "plt.ylabel('Ranking')\n",
    "plt.title('Ranking for the Star Wars Films')\n",
    "plt.xticks(index + bar_width,['Episode_'+str(i) for i in range(1,7)])\n",
    "plt.tight_layout()\n",
    "plt.legend()\n",
    "\n",
    "print(type(mean_ranking))\n"
   ]
  },
  {
   "cell_type": "markdown",
   "metadata": {},
   "source": [
    "## Summary\n",
    "In this guided project, we have been going through some basic steps of data wrangling in order to extract some insights from the data. For example the average ranking for all the films (the most popular one being the Episode 5 : The Empire Strikes Back which is the second film in the original trilogy)."
   ]
  },
  {
   "cell_type": "code",
   "execution_count": 40,
   "metadata": {
    "collapsed": false
   },
   "outputs": [
    {
     "data": {
      "text/plain": [
       "<matplotlib.legend.Legend at 0xc014080>"
      ]
     },
     "execution_count": 40,
     "metadata": {},
     "output_type": "execute_result"
    },
    {
     "data": {
      "image/png": "[encoded data removed]",
      "text/plain": [
       "<matplotlib.figure.Figure at 0xc61b710>"
      ]
     },
     "metadata": {},
     "output_type": "display_data"
    }
   ],
   "source": [
    "sum_seen = star_wars[star_wars.columns[3:9]].sum() # number of people who had seen a movie i\n",
    "\n",
    "fig, ax = plt.subplots()\n",
    "ax.bar(index,sum_seen,bar_width,alpha=opacity,color='b',label=\"Sum\")\n",
    "\n",
    "plt.xlabel('Star Wars Films')\n",
    "plt.ylabel('Number of People')\n",
    "plt.title('Audience')\n",
    "plt.xticks(index + bar_width,['Episode_'+str(i) for i in range(1,7)])\n",
    "plt.tight_layout()\n",
    "plt.legend()"
   ]
  },
  {
   "cell_type": "markdown",
   "metadata": {},
   "source": [
    "#TODO :\n",
    "----------\n",
    "**Explain what kind of insights you've got from the data **\n",
    "\n",
    "*The most seen movies are also the one getting the highest ranking while the low ranked ones*"
   ]
  },
  {
   "cell_type": "code",
   "execution_count": 44,
   "metadata": {
    "collapsed": false
   },
   "outputs": [
    {
     "name": "stdout",
     "output_type": "stream",
     "text": [
      "ranking_6   -3.047847\n",
      "ranking_5   -2.513158\n",
      "ranking_4   -3.272727\n",
      "ranking_3   -4.341317\n",
      "ranking_2   -4.087321\n",
      "ranking_1   -3.732934\n",
      "dtype: float64\n"
     ]
    },
    {
     "data": {
      "image/png": "[encoded data removed]",
      "text/plain": [
       "<matplotlib.figure.Figure at 0xafdc470>"
      ]
     },
     "metadata": {},
     "output_type": "display_data"
    }
   ],
   "source": [
    "# permutation = np.random.permutation(len(mean_ranking))\n",
    "# print(type(permutation))\n",
    "\n",
    "dummy_ranking = mean_ranking.iloc[np.array([5,4,3,2,1,0])]\n",
    "\n",
    "print(-dummy_ranking)\n",
    "\n",
    "plt.plot(-dummy_ranking.values) # negative rating for better visibility and understanding\n",
    "plt.ylabel('some numbers')\n",
    "plt.tight_layout()"
   ]
  },
  {
   "cell_type": "code",
   "execution_count": 57,
   "metadata": {
    "collapsed": false
   },
   "outputs": [
    {
     "name": "stdout",
     "output_type": "stream",
     "text": [
      "People who watched the Star Wars films: 1046\n"
     ]
    },
    {
     "data": {
      "text/plain": [
       "<matplotlib.legend.Legend at 0xd9d6908>"
      ]
     },
     "execution_count": 57,
     "metadata": {},
     "output_type": "execute_result"
    },
    {
     "data": {
      "image/png": "[encoded data removed]",
      "text/plain": [
       "<matplotlib.figure.Figure at 0xadd14e0>"
      ]
     },
     "metadata": {},
     "output_type": "display_data"
    }
   ],
   "source": [
    "#Splitting Data into two groups : Male/Female\n",
    "\n",
    "males = star_wars[star_wars[\"Gender\"] == \"Male\"]\n",
    "\n",
    "# Most seen Star Wars film among Males\n",
    "\n",
    "sum_males = males.iloc[:,3:9].sum()\n",
    "\n",
    "# Most seen Star Wars film among Males\n",
    "\n",
    "females = star_wars[star_wars[\"Gender\"] == \"Female\"]\n",
    "\n",
    "unisex_audience = len(males) + len(females)\n",
    "\n",
    "print(\"People who watched the Star Wars films: \"+ str(unisex_audience))\n",
    "\n",
    "sum_females = females.iloc[:,3:9].sum()\n",
    "\n",
    "fig, ax = plt.subplots()\n",
    "ax.bar(index,sum_males,bar_width,alpha=opacity,color='b',label=\"Males\")\n",
    "\n",
    "plt.xlabel('Star Wars Films')\n",
    "plt.ylabel('Number of People')\n",
    "plt.title('Audience Female/Male')\n",
    "plt.xticks(index + bar_width,['Episode_'+str(i) for i in range(1,7)])\n",
    "plt.tight_layout()\n",
    "plt.legend()\n",
    "\n",
    "ax.bar(index + bar_width,sum_females,bar_width,alpha=opacity,color='y',label=\"Females\")\n",
    "\n",
    "\n",
    "plt.legend()\n",
    "\n",
    "# print(males)\n",
    "# Most seen movie by group : Male/Female\n",
    "\n",
    "# Highest ranked movie by group : Male/Female"
   ]
  },
  {
   "cell_type": "code",
   "execution_count": 61,
   "metadata": {
    "collapsed": false
   },
   "outputs": [
    {
     "name": "stdout",
     "output_type": "stream",
     "text": [
      "('Females : ', ranking_1    3.429293\n",
      "ranking_2    3.954660\n",
      "ranking_3    4.418136\n",
      "ranking_4    3.544081\n",
      "ranking_5    2.569270\n",
      "ranking_6    3.078086\n",
      "dtype: float64)\n",
      "('Males : ', ranking_1    4.037825\n",
      "ranking_2    4.224586\n",
      "ranking_3    4.274882\n",
      "ranking_4    2.997636\n",
      "ranking_5    2.458629\n",
      "ranking_6    3.002364\n",
      "dtype: float64)\n",
      "112      > 60\n",
      "113      > 60\n",
      "115     30-44\n",
      "117     30-44\n",
      "118     30-44\n",
      "119      > 60\n",
      "121     30-44\n",
      "122     30-44\n",
      "123     30-44\n",
      "124      > 60\n",
      "125     30-44\n",
      "126      > 60\n",
      "127      > 60\n",
      "129     30-44\n",
      "133     30-44\n",
      "136      > 60\n",
      "137     30-44\n",
      "138     30-44\n",
      "139      > 60\n",
      "140      > 60\n",
      "141      > 60\n",
      "142      > 60\n",
      "143     30-44\n",
      "145      > 60\n",
      "148     30-44\n",
      "150     18-29\n",
      "151      > 60\n",
      "152      > 60\n",
      "153     30-44\n",
      "155     30-44\n",
      "        ...  \n",
      "1151     > 60\n",
      "1152    45-60\n",
      "1153    18-29\n",
      "1155     > 60\n",
      "1156    45-60\n",
      "1157    30-44\n",
      "1159    45-60\n",
      "1160     > 60\n",
      "1161    18-29\n",
      "1163    18-29\n",
      "1164     > 60\n",
      "1166    30-44\n",
      "1167    18-29\n",
      "1168    30-44\n",
      "1169    30-44\n",
      "1171    45-60\n",
      "1172     > 60\n",
      "1173     > 60\n",
      "1174    30-44\n",
      "1175     > 60\n",
      "1176    45-60\n",
      "1177    45-60\n",
      "1179    18-29\n",
      "1180    45-60\n",
      "1181    45-60\n",
      "1182    18-29\n",
      "1183    30-44\n",
      "1184    30-44\n",
      "1185    45-60\n",
      "1186     > 60\n",
      "Name: Age, dtype: object\n"
     ]
    }
   ],
   "source": [
    "# Highest ranked film by group Male/Female\n",
    "\n",
    "hr_females = females[females.columns[9:15]].mean()\n",
    "\n",
    "hr_males = males[males.columns[9:15]].mean()\n",
    "\n",
    "print(\"Females : \", hr_females)\n",
    "\n",
    "print(\"Males : \", hr_males)\n",
    "\n",
    "print(females[\"Age\"])"
   ]
  }
 ],
 "metadata": {
  "kernelspec": {
   "display_name": "Python 2",
   "language": "python",
   "name": "python2"
  },
  "language_info": {
   "codemirror_mode": {
    "name": "ipython",
    "version": 2
   },
   "file_extension": ".py",
   "mimetype": "text/x-python",
   "name": "python",
   "nbconvert_exporter": "python",
   "pygments_lexer": "ipython2",
   "version": "2.7.10"
  }
 },
 "nbformat": 4,
 "nbformat_minor": 0
}
